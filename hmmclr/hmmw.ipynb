{
 "cells": [
  {
   "cell_type": "code",
   "execution_count": 88,
   "metadata": {
    "collapsed": true
   },
   "outputs": [],
   "source": [
    "import numpy as np\n",
    "from operator import itemgetter"
   ]
  },
  {
   "cell_type": "code",
   "execution_count": 89,
   "metadata": {
    "collapsed": false
   },
   "outputs": [],
   "source": [
    "class hmm:\n",
    "    \"\"\"\n",
    "    General class that models an Hidden Markov Model\n",
    "    It contains the triplet \\lambda = \\{\\Pi, A, B\\} here called: \n",
    "    \"\"\"\n",
    "    def __init__(self, stat_m, obs_m, stat_l, obs_l):\n",
    "        \"\"\"\n",
    "        Constructor of the class\n",
    "        \"\"\"\n",
    "        self.stat_m = stat_m\n",
    "        self.obs_m = obs_m\n",
    "        self.stat_l = stat_l\n",
    "        self.obs_l = obs_l\n",
    "        self.n_of_stat = len(stat_l)\n",
    "        self.n_of_obs = len(obs_l) \n",
    "        self.stat_m_l = self.logs(self.stat_m)\n",
    "        self.obs_m_l = self.logs(self.obs_m)\n",
    "        \n",
    "        \n",
    "    def genseq (self, sequences = 1):\n",
    "        \"\"\"\n",
    "        Generates the sequences\n",
    "        \"\"\"\n",
    "        seq = []\n",
    "        \n",
    "        for iterator in np.arange(0,sequences):\n",
    "            \n",
    "            s = []\n",
    "            o = []\n",
    "            \n",
    "            s.append(np.random.choice(len(self.stat_m[0]), 1, p=self.stat_m[0])[0])\n",
    "            o.append(np.random.choice(len(self.obs_m[s[0]]), 1, p=self.obs_m[s[0]])[0])\n",
    "            \n",
    "            j = 1\n",
    "            \n",
    "            s_ = np.random.choice(len(self.stat_m[s[j - 1]]), 1, p=self.stat_m[s[j - 1]])[0]\n",
    "            \n",
    "            while s_ < len(self.stat_l) - 1 :\n",
    "                \n",
    "                s.append(s_)\n",
    "                o.append(np.random.choice(len(self.obs_m[s_]), 1, p=self.obs_m[s_])[0])\n",
    "                j = j + 1\n",
    "                s_ = np.random.choice(len(self.stat_m[s[j - 1]]), 1, p=self.stat_m[s[j - 1]])[0]\n",
    "            \n",
    "            seq.append(itemgetter(*o)(self.obs_l))\n",
    "        \n",
    "        return seq\n",
    "    \n",
    "    def viterbi (self,obs):\n",
    "        \"\"\"\n",
    "        \n",
    "        \"\"\"\n",
    "        seq_ = []\n",
    "        for iterator in np.arange(len(obs)):\n",
    "            \n",
    "            j = len(obs[iterator])\n",
    "            d = np.zeros([self.n_of_stat, j])\n",
    "            p = np.zeros([self.n_of_stat, j])\n",
    "            obs_ = self.obs_l.index(obs[iterator][0])\n",
    "            \n",
    "            d[:,0] = self.stat_m_l[0, :] + self.obs_m_l[:, obs_]\n",
    "            p[:, 0] = 0\n",
    "            \n",
    "            for j_ in np.arange(1,j):\n",
    "                x_ = np.array([d[:, j_ - 1]]).T + self.stat_m_l\n",
    "                obs_ = self.obs_l.index(obs[iterator][j_])\n",
    "                d[:, j_] = np.amax(x_, axis = 0) + self.obs_m_l[:, obs_]\n",
    "                p[:, j_] = np.argmax(x_, axis = 0)\n",
    "            \n",
    "            m_ = np.exp(np.max(d[:, j - 1]))\n",
    "            seq = np.array([np.argmax(d[:, j - 1])], dtype = 'int')\n",
    "            \n",
    "            for j_ in np.arange(j - 1, 0, -1):\n",
    "                seq = np.insert(seq, 0, p[seq[0], j_])\n",
    "            \n",
    "            seq_.append((seq, m_))\n",
    "            \n",
    "        return seq_\n",
    "    \n",
    "    def baum_welch(self, obs_, max_ = 30):\n",
    "\n",
    "        logs = []\n",
    "\n",
    "        for j_ in np.arange(max_):\n",
    "\n",
    "            log_ = 0\n",
    "            b_ = np.zeros([self.n_of_stat])\n",
    "            a_ = np.zeros([self.n_of_stat])\n",
    "            a__ = np.zeros([self.n_of_stat, self.n_of_stat])\n",
    "            p_ = np.zeros([self.n_of_stat])\n",
    "            b__ = np.zeros([self.n_of_stat, self.n_of_obs])\n",
    "\n",
    "            for obs in obs_:\n",
    "\n",
    "                a, l_, c = self.fwd(obs)\n",
    "                b = self.bwd(obs, c)\n",
    "                log_ += l_\n",
    "                T = len(obs)\n",
    "                w_k = 1.0 / -(l_ + np.log(T))\n",
    "                g_ = a * b\n",
    "                g = g_ / g_.sum(0)\n",
    "                p_ += w_k * g[:, 0]\n",
    "                b_ += w_k * g.sum(1)\n",
    "                a_ += w_k * g[:, :T - 1].sum(1)\n",
    "                xi = np.zeros([self.n_of_stat, self.n_of_stat, T - 1])\n",
    "\n",
    "                for t in np.arange(T - 1):\n",
    "\n",
    "                    obs__ = self.obs_l.index(obs[t + 1])\n",
    "\n",
    "                    for i in np.arange(self.n_of_stat):\n",
    "\n",
    "                        xi[i, :, t] = a[i, t] * self.stat_m[i, :] * self.obs_m[:, obs__] * b[:, t + 1]\n",
    "\n",
    "                a__ += w_k * xi[:, :, :T - 1].sum(2)\n",
    "                obs_m_ = np.zeros([self.n_of_stat, self.n_of_obs])\n",
    "\n",
    "                for k in np.arange(self.n_of_obs):\n",
    "\n",
    "                    i_ = np.array([self.obs_l[k] == x for x in obs])\n",
    "                    obs_m_[:, k] = g.T[i_, :].sum(0)\n",
    "\n",
    "                b__ += w_k * obs_m_\n",
    "\n",
    "            stat_m_ = np.zeros([self.n_of_stat, self.n_of_stat])\n",
    "            stat_m_[0, :] = p_ / np.sum(p_)\n",
    "\n",
    "            for i in np.arange(1, self.n_of_stat - 1):\n",
    "                stat_m_[i, :] = a__[i, :] / a_[i]\n",
    "\n",
    "            self.stat_m = stat_m_\n",
    "\n",
    "            for i in np.arange(self.n_of_stat):\n",
    "\n",
    "                if b_[i] > 0:\n",
    "\n",
    "                    b__[i, :] = b__[i, :] / b_[i]\n",
    "\n",
    "                else:\n",
    "\n",
    "                    b__[i, :] = b__[i, :]\n",
    "            self.obs_m = b__\n",
    "            logs.append(log_)\n",
    "            if j_ > 1 and logs[j_ - 1] == log_:\n",
    "                break\n",
    "                \n",
    "        return self\n",
    "    \n",
    "        \n",
    "    def fwd (self, obs):\n",
    "        \n",
    "        j = len(obs)\n",
    "        c = np.zeros(j)\n",
    "        a = np.zeros([self.n_of_stat,j])\n",
    "        obs_ = self.obs_l.index(obs[0])\n",
    "        a[:, 0] = self.stat_m[0, :] * self.obs_m[:, obs_]\n",
    "        c[0] = 1.0 / np.sum(a[:, 0])\n",
    "        a[:, 0] *= c[0]\n",
    "        \n",
    "        for j_ in np.arange(1,j):\n",
    "            obs_ = self.obs_l.index(obs[j_])\n",
    "            a[:, j_] = np.dot(a[: , j_ - 1], self.stat_m) * self.obs_m[:, obs_]\n",
    "            c[j_] = 1.0 / np.sum(a[:, j_])\n",
    "            a[:, j_] *= c[j_]\n",
    "        \n",
    "        log_o = -(np.sum(np.log(c)))\n",
    "        \n",
    "        return a, log_o, c\n",
    "    \n",
    "    def bwd (self, obs, c):\n",
    "        \n",
    "        j = len(obs)\n",
    "        b = np.zeros([self.n_of_stat, j])\n",
    "        b[:, j - 1] = c[j - 1]\n",
    "        \n",
    "        for j_ in np.arange(j - 1, 0, -1):\n",
    "            obs_ = self.obs_l.index(obs[j_])\n",
    "            b[:, j_ - 1] = np.dot(self.stat_m, self.obs_m[:, obs_] * b[:, j_])\n",
    "            b[:, j_ - 1] *= c[j_ - 1]\n",
    "            \n",
    "        return b\n",
    "            \n",
    "    def logs(self, log):\n",
    "        log_ = np.zeros((log.shape))\n",
    "        log_[log > 0] = np.log(log[log > 0])\n",
    "        log_[log == 0] = float('-inf')\n",
    "        return log_"
   ]
  },
  {
   "cell_type": "code",
   "execution_count": 101,
   "metadata": {
    "collapsed": false
   },
   "outputs": [],
   "source": [
    "labels = ['INIT','Onset','Mid','End','FINAL']\n",
    "\n",
    "obs = ['C1','C2','C3','C4','C5','C6','C7']\n",
    "\n",
    "A = np.array([[0,1,0,0,0],\n",
    "              [0,0.3,0.7,0,0],\n",
    "              [0,0,0.9,0.1,0],\n",
    "              [0,0,0,0.4,0.6],\n",
    "              [0,0,0,0.0,0]])\n",
    "\n",
    "B = np.array([[0,0,0,0,0,0,0],[0.5,0.2,0.3,0,0,0,0],[0,0,0.2,0.7,0.1,0,0],[0,0,0,0.1,0,0.5,0.4],[0,0,0,0,0,0,0]])\n",
    "\n",
    "stat_m0 = np.array([[0, 1, 0, 0, 0],[0, 0.5, 0.5, 0, 0],[0, 0, 0.5, 0.5, 0],[0, 0, 0, 0.5, 0.5],[0, 0, 0, 0, 0]])\n",
    "\n",
    "obs_m0 = np.array([[0, 0, 0, 0, 0, 0, 0],[0.30, 0.30, 0.40, 0, 0, 0, 0],[0, 0, 0.30, 0.30, 0.40, 0, 0],[0, 0, 0, 0.30, 0, 0.30, 0.40],[0, 0, 0, 0, 0, 0, 0]])\n",
    "\n",
    "seq1 = [['C1','C2','C3','C4','C4','C6','C7'],['C2','C2','C5','C4','C4','C6','C6']]"
   ]
  },
  {
   "cell_type": "code",
   "execution_count": 102,
   "metadata": {
    "collapsed": false
   },
   "outputs": [],
   "source": [
    "hmm1 = hmm(A, B, labels, obs)"
   ]
  },
  {
   "cell_type": "code",
   "execution_count": 106,
   "metadata": {
    "collapsed": false,
    "scrolled": true
   },
   "outputs": [],
   "source": [
    "seq2 = hmm1.genseq(100)"
   ]
  },
  {
   "cell_type": "code",
   "execution_count": null,
   "metadata": {
    "collapsed": true
   },
   "outputs": [],
   "source": [
    "hmm1.baum_welch(seq1)"
   ]
  },
  {
   "cell_type": "code",
   "execution_count": 109,
   "metadata": {
    "collapsed": false
   },
   "outputs": [],
   "source": [
    "hmmc = hmm(stat_m0, obs_m0, labels, obs)\n",
    "hmmt = hmmc.baum_welch(seq2)"
   ]
  },
  {
   "cell_type": "code",
   "execution_count": 111,
   "metadata": {
    "collapsed": false
   },
   "outputs": [
    {
     "data": {
      "text/plain": [
       "array([[ 0.        ,  1.        ,  0.        ,  0.        ,  0.        ],\n",
       "       [ 0.        ,  0.19343991,  0.80656009,  0.        ,  0.        ],\n",
       "       [ 0.        ,  0.        ,  0.86083614,  0.13916386,  0.        ],\n",
       "       [ 0.        ,  0.        ,  0.        ,  1.        ,  0.        ],\n",
       "       [ 0.        ,  0.        ,  0.        ,  0.        ,  0.        ]])"
      ]
     },
     "execution_count": 111,
     "metadata": {},
     "output_type": "execute_result"
    }
   ],
   "source": [
    "hmmt.stat_m"
   ]
  },
  {
   "cell_type": "code",
   "execution_count": 112,
   "metadata": {
    "collapsed": false
   },
   "outputs": [
    {
     "data": {
      "text/plain": [
       "array([[ 0.        ,  0.        ,  0.        ,  0.        ,  0.        ,\n",
       "         0.        ,  0.        ],\n",
       "       [ 0.45434628,  0.10411344,  0.44154029,  0.        ,  0.        ,\n",
       "         0.        ,  0.        ],\n",
       "       [ 0.        ,  0.        ,  0.20574315,  0.71503849,  0.07921837,\n",
       "         0.        ,  0.        ],\n",
       "       [ 0.        ,  0.        ,  0.        ,  0.0470633 ,  0.        ,\n",
       "         0.51041397,  0.44252273],\n",
       "       [ 0.        ,  0.        ,  0.        ,  0.        ,  0.        ,\n",
       "         0.        ,  0.        ]])"
      ]
     },
     "execution_count": 112,
     "metadata": {},
     "output_type": "execute_result"
    }
   ],
   "source": [
    "hmmt.obs_m"
   ]
  },
  {
   "cell_type": "code",
   "execution_count": 85,
   "metadata": {
    "collapsed": false
   },
   "outputs": [
    {
     "data": {
      "text/plain": [
       "array([[ 0. ,  1. ,  0. ,  0. ,  0. ],\n",
       "       [ 0. ,  0.5,  0.5,  0. ,  0. ],\n",
       "       [ 0. ,  0. ,  0. ,  1. ,  0. ],\n",
       "       [ 0. ,  0. ,  0. ,  1. ,  0. ],\n",
       "       [ 0. ,  0. ,  0. ,  0. ,  0. ]])"
      ]
     },
     "execution_count": 85,
     "metadata": {},
     "output_type": "execute_result"
    }
   ],
   "source": [
    "hmm1.baum_welch(seq1).stat_m"
   ]
  },
  {
   "cell_type": "code",
   "execution_count": null,
   "metadata": {
    "collapsed": true
   },
   "outputs": [],
   "source": []
  },
  {
   "cell_type": "code",
   "execution_count": null,
   "metadata": {
    "collapsed": true
   },
   "outputs": [],
   "source": []
  }
 ],
 "metadata": {
  "kernelspec": {
   "display_name": "Python 2",
   "language": "python",
   "name": "python2"
  },
  "language_info": {
   "codemirror_mode": {
    "name": "ipython",
    "version": 2
   },
   "file_extension": ".py",
   "mimetype": "text/x-python",
   "name": "python",
   "nbconvert_exporter": "python",
   "pygments_lexer": "ipython2",
   "version": "2.7.10"
  }
 },
 "nbformat": 4,
 "nbformat_minor": 0
}
